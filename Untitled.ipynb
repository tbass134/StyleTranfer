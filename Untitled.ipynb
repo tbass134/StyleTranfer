{
 "cells": [
  {
   "cell_type": "code",
   "execution_count": 1,
   "metadata": {},
   "outputs": [
    {
     "name": "stderr",
     "output_type": "stream",
     "text": [
      "/Users/antoniohung/anaconda/envs/turi/lib/python2.7/site-packages/h5py/__init__.py:36: FutureWarning: Conversion of the second argument of issubdtype from `float` to `np.floating` is deprecated. In future, it will be treated as `np.float64 == np.dtype(float).type`.\n",
      "  from ._conv import register_converters as _register_converters\n"
     ]
    }
   ],
   "source": [
    "import turicreate as tc"
   ]
  },
  {
   "cell_type": "code",
   "execution_count": null,
   "metadata": {},
   "outputs": [
    {
     "data": {
      "text/html": [
       "<pre>Unsupported image format. Supported formats are JPEG and PNG\t file: downloads/content/.DS_Store</pre>"
      ],
      "text/plain": [
       "Unsupported image format. Supported formats are JPEG and PNG\t file: downloads/content/.DS_Store"
      ]
     },
     "metadata": {},
     "output_type": "display_data"
    },
    {
     "name": "stdout",
     "output_type": "stream",
     "text": [
      "Using 'image' in style_dataset as feature column and using 'image' in content_dataset as feature column\n",
      "Setting max_iterations to be 5000\n",
      "Using CPU to create model\n",
      "Analyzing visual features of the style images\n",
      "+--------------+--------------+--------------+\n",
      "| Iteration    | Loss         | Elapsed Time |\n",
      "+--------------+--------------+--------------+\n",
      "| 1            | 12.232       | 15.4         |\n",
      "| 2            | 11.628       | 43.5         |\n",
      "| 3            | 11.541       | 78.2         |\n",
      "| 4            | 11.368       | 109.1        |\n",
      "| 5            | 11.032       | 137.9        |\n",
      "| 6            | 10.579       | 166.4        |\n",
      "| 7            | 10.213       | 194.2        |\n",
      "| 8            | 10.060       | 224.8        |\n",
      "| 9            | 11.691       | 254.8        |\n",
      "| 10           | 11.821       | 287.7        |\n",
      "| 11           | 11.133       | 318.8        |\n",
      "| 12           | 11.203       | 350.3        |\n",
      "| 13           | 10.580       | 383.2        |\n",
      "| 14           | 10.502       | 412.1        |\n",
      "| 15           | 9.868        | 440.4        |\n",
      "| 16           | 10.204       | 470.5        |\n",
      "| 17           | 10.255       | 501.6        |\n",
      "| 18           | 10.294       | 531.8        |\n",
      "| 19           | 9.898        | 563.8        |\n",
      "| 20           | 9.698        | 594.7        |\n",
      "| 21           | 9.372        | 630.0        |\n",
      "| 22           | 10.862       | 662.8        |\n",
      "| 23           | 10.643       | 693.4        |\n",
      "| 24           | 10.738       | 725.4        |\n",
      "| 25           | 11.070       | 758.4        |\n",
      "| 26           | 11.013       | 792.0        |\n",
      "| 27           | 10.845       | 824.0        |\n",
      "| 28           | 10.848       | 856.6        |\n",
      "| 29           | 11.319       | 889.2        |\n",
      "| 30           | 11.346       | 920.5        |\n",
      "| 31           | 11.272       | 955.4        |\n",
      "| 32           | 10.779       | 988.3        |\n",
      "| 33           | 10.600       | 1021.4       |\n",
      "| 34           | 11.696       | 1053.7       |\n"
     ]
    }
   ],
   "source": [
    "# Load the style and content images\n",
    "styles = tc.image_analysis.load_images('downloads/styles/')\n",
    "content = tc.image_analysis.load_images('downloads/content/')\n",
    "\n",
    "# Create a StyleTransfer model\n",
    "model = tc.style_transfer.create(styles, content)\n",
    "\n",
    "# Load some test images\n",
    "test_images = tc.image_analysis.load_images('downloads/test/')\n",
    "\n",
    "# Stylize the test images\n",
    "stylized_images = model.stylize(test_images)\n"
   ]
  },
  {
   "cell_type": "code",
   "execution_count": null,
   "metadata": {
    "collapsed": true
   },
   "outputs": [],
   "source": []
  }
 ],
 "metadata": {
  "kernelspec": {
   "display_name": "Python 2",
   "language": "python",
   "name": "python2"
  },
  "language_info": {
   "codemirror_mode": {
    "name": "ipython",
    "version": 2
   },
   "file_extension": ".py",
   "mimetype": "text/x-python",
   "name": "python",
   "nbconvert_exporter": "python",
   "pygments_lexer": "ipython2",
   "version": "2.7.15"
  }
 },
 "nbformat": 4,
 "nbformat_minor": 2
}
