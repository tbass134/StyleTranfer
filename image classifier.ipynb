{
 "cells": [
  {
   "cell_type": "code",
   "execution_count": null,
   "metadata": {
    "collapsed": true
   },
   "outputs": [],
   "source": [
    "import turicreate as tc\n",
    "\n",
    "# Load data \n",
    "data = tc.SFrame('photoLabel.sframe')\n",
    "\n",
    "# Create a model\n",
    "model = tc.image_classifier.create(data, target='photoLabel')\n",
    "\n",
    "# Make predictions\n",
    "predictions = model.predict(data)\n",
    "\n",
    "# Export to Core ML\n",
    "model.export_coreml('MyClassifier.mlmodel')"
   ]
  }
 ],
 "metadata": {
  "kernelspec": {
   "display_name": "Python 3",
   "language": "python",
   "name": "python3"
  },
  "language_info": {
   "codemirror_mode": {
    "name": "ipython",
    "version": 3
   },
   "file_extension": ".py",
   "mimetype": "text/x-python",
   "name": "python",
   "nbconvert_exporter": "python",
   "pygments_lexer": "ipython3",
   "version": "3.6.1"
  }
 },
 "nbformat": 4,
 "nbformat_minor": 2
}
